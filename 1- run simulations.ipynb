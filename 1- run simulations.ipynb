{
 "cells": [
  {
   "cell_type": "markdown",
   "metadata": {},
   "source": [
    "# Step 1: run the simulation"
   ]
  },
  {
   "cell_type": "code",
   "execution_count": 1,
   "metadata": {},
   "outputs": [
    {
     "name": "stderr",
     "output_type": "stream",
     "text": [
      "c:\\Users\\hanisaf\\anaconda3\\lib\\site-packages\\scipy\\__init__.py:146: UserWarning: A NumPy version >=1.16.5 and <1.23.0 is required for this version of SciPy (detected version 1.23.1\n",
      "  warnings.warn(f\"A NumPy version >={np_minversion} and <{np_maxversion}\"\n"
     ]
    },
    {
     "name": "stdout",
     "output_type": "stream",
     "text": [
      "Python 3.9.7\n"
     ]
    }
   ],
   "source": [
    "import sys, pickle\n",
    "import numpy as np\n",
    "import pandas as pd\n",
    "import seaborn as sns\n",
    "import pyarrow\n",
    "from datetime import datetime\n",
    "import esm_simulation, utilities\n",
    "import matplotlib as mpl\n",
    "import matplotlib.pyplot as plt\n",
    "from matplotlib.pyplot import figure\n",
    "import matplotlib.cm as cm\n",
    "import itertools\n",
    "!{sys.executable} --version"
   ]
  },
  {
   "cell_type": "code",
   "execution_count": 2,
   "metadata": {},
   "outputs": [
    {
     "name": "stdout",
     "output_type": "stream",
     "text": [
      "numpy == 1.23.1 pyarrow == 6.0.1 seaborn ==  0.11.2\n"
     ]
    }
   ],
   "source": [
    "print('numpy ==', np.__version__, 'pyarrow ==',pyarrow.__version__, 'seaborn == ', sns.__version__)"
   ]
  },
  {
   "cell_type": "code",
   "execution_count": 3,
   "metadata": {},
   "outputs": [],
   "source": [
    "# main experiment parameters\n",
    "params1 = {\n",
    "          'organization_size': [100],\n",
    "          'simulation_time': [30],\n",
    "          'initial_metaknowledge_accuracy': [0.0, 0.1, 0.2],\n",
    "          'worker_dependency': [ 0.1, 0.2, 0.3],\n",
    "          'initial_esm_adoption': [ 0.8, 0.9, 1.0 ],\n",
    "          'esm_interactivity': [ 0.1, 0.2, 0.3, 0.4, 0.5, 0.6, 0.7, 0.8, 0.9 ],    \n",
    "          'worker_interruption_tolerance' : [25, 75],\n",
    "          'worker_transparency_preference': [1,10],    \n",
    "          'metaknowledge_decay_rate': [0.0], \n",
    "          'worker_aspiration': [1.0],\n",
    "         }\n",
    "# robustness checks parameters\n",
    "params2 = {\n",
    "          'organization_size': [100],\n",
    "          'simulation_time': [30],\n",
    "          'initial_metaknowledge_accuracy': [0.0, 0.1, 0.2],\n",
    "          'worker_dependency': [ 0.1, 0.2, 0.3],\n",
    "          'initial_esm_adoption': [ 0.8, 0.9, 1.0 ],\n",
    "          'esm_interactivity': [ 0.1, 0.2, 0.3, 0.4, 0.5, 0.6, 0.7, 0.8, 0.9 ],    \n",
    "          'worker_interruption_tolerance' : [25, 75],\n",
    "          'worker_transparency_preference': [1,10],    \n",
    "          'metaknowledge_decay_rate': [0.2, 0.8], ### difference from main\n",
    "          'worker_aspiration': [0.2, 0.8], ### difference from main\n",
    "         }\n",
    "# extended experiment parameters\n",
    "params3 = {\n",
    "          'organization_size': [50, 100, 150], ### difference from main\n",
    "          'simulation_time': [10, 30, 90], ### difference from main\n",
    "          'initial_metaknowledge_accuracy': [0.0, 0.1, 0.2, 0.3, 0.4], ### difference from main\n",
    "          'worker_dependency': [ 0.1, 0.2, 0.3, 0.4, 0.5], ### difference from main\n",
    "          'initial_esm_adoption': [ 0.6, 0.7, 0.8, 0.9, 1.0 ], ### difference from main \n",
    "          'esm_interactivity': [ 0.1, 0.3, 0.5, 0.7, 0.9 ], ### difference from main     \n",
    "          'worker_interruption_tolerance' : [25, 75, 100], ### difference from main \n",
    "          'worker_transparency_preference': [1, 10, 25], ### difference from main    \n",
    "          'metaknowledge_decay_rate': [0.0], \n",
    "          'worker_aspiration': [1.0],\n",
    "         }\n",
    "runs_per_configuration = 10\n",
    "\n",
    "experiments = {'main':params1, 'robust':params2, 'ext':params3 }\n"
   ]
  },
  {
   "cell_type": "code",
   "execution_count": 4,
   "metadata": {
    "scrolled": false
   },
   "outputs": [
    {
     "name": "stdout",
     "output_type": "stream",
     "text": [
      "2023-01-14 22:34:14.537719\n",
      "Running experiment main  ... \n",
      "number of configurations = 972\n",
      "You have 11 CPUs that the simulation will use\n",
      "Done running the simulations!\n",
      "Assembling the results ...\n",
      "Writing files ... \n",
      "2023-01-14 22:36:30.389770\n",
      "\n"
     ]
    }
   ],
   "source": [
    "k = 'main'\n",
    "print(datetime.now())\n",
    "print(\"Running experiment\", k, \" ... \")\n",
    "params = experiments[k]\n",
    "model = esm_simulation.Simulation\n",
    "results = utilities.run_configurations(model, params, parallel=True, runs_per_configuration = runs_per_configuration)\n",
    "data_his = utilities.create_result_table(results, history=True)\n",
    "data_agg = utilities.create_result_table(results, history=False)\n",
    "print(\"Writing files ... \")\n",
    "filename = str(model).replace(\"<class '\", '').replace(\"'>\", '')\n",
    "data_agg.to_parquet(f\"{filename}_{k}_agg.parquet\", index=False)\n",
    "data_his.to_parquet(f\"{filename}_{k}_his.parquet\", index=False)\n",
    "print(datetime.now())\n",
    "print()"
   ]
  },
  {
   "cell_type": "code",
   "execution_count": 5,
   "metadata": {},
   "outputs": [],
   "source": [
    "del results"
   ]
  },
  {
   "cell_type": "code",
   "execution_count": 6,
   "metadata": {},
   "outputs": [
    {
     "name": "stdout",
     "output_type": "stream",
     "text": [
      "2023-01-14 22:36:30.856178\n",
      "Running experiment robust  ... \n",
      "number of configurations = 3888\n",
      "You have 11 CPUs that the simulation will use\n",
      "Done running the simulations!\n",
      "Assembling the results ...\n",
      "Writing files ... \n",
      "2023-01-14 22:45:39.312149\n",
      "\n"
     ]
    }
   ],
   "source": [
    "k = 'robust'\n",
    "print(datetime.now())\n",
    "print(\"Running experiment\", k, \" ... \")\n",
    "params = experiments[k]\n",
    "model = esm_simulation.Simulation\n",
    "results = utilities.run_configurations(model, params, parallel=True, runs_per_configuration = runs_per_configuration)\n",
    "data_his = utilities.create_result_table(results, history=True)\n",
    "data_agg = utilities.create_result_table(results, history=False)\n",
    "print(\"Writing files ... \")\n",
    "filename = str(model).replace(\"<class '\", '').replace(\"'>\", '')\n",
    "data_agg.to_parquet(f\"{filename}_{k}_agg.parquet\", index=False)\n",
    "data_his.to_parquet(f\"{filename}_{k}_his.parquet\", index=False)\n",
    "print(datetime.now())\n",
    "print()"
   ]
  },
  {
   "cell_type": "code",
   "execution_count": 7,
   "metadata": {},
   "outputs": [],
   "source": [
    "del results"
   ]
  },
  {
   "cell_type": "code",
   "execution_count": 8,
   "metadata": {},
   "outputs": [
    {
     "name": "stdout",
     "output_type": "stream",
     "text": [
      "2023-01-14 22:45:51.954371\n",
      "Running experiment ext  ... \n",
      "number of configurations = 50625\n",
      "You have 11 CPUs that the simulation will use\n",
      "Done running the simulations!\n",
      "Assembling the results ...\n",
      "Writing files ... \n",
      "2023-01-15 01:44:44.926144\n",
      "\n"
     ]
    }
   ],
   "source": [
    "k = 'ext'\n",
    "print(datetime.now())\n",
    "print(\"Running experiment\", k, \" ... \")\n",
    "params = experiments[k]\n",
    "model = esm_simulation.Simulation\n",
    "results = utilities.run_configurations(model, params, parallel=True, runs_per_configuration = runs_per_configuration)\n",
    "data_his = utilities.create_result_table(results, history=True)\n",
    "data_agg = utilities.create_result_table(results, history=False)\n",
    "print(\"Writing files ... \")\n",
    "filename = str(model).replace(\"<class '\", '').replace(\"'>\", '')\n",
    "data_agg.to_parquet(f\"{filename}_{k}_agg.parquet\", index=False)\n",
    "data_his.to_parquet(f\"{filename}_{k}_his.parquet\", index=False)\n",
    "print(datetime.now())\n",
    "print()"
   ]
  },
  {
   "cell_type": "code",
   "execution_count": null,
   "metadata": {},
   "outputs": [],
   "source": [
    "del results"
   ]
  }
 ],
 "metadata": {
  "kernelspec": {
   "display_name": "base",
   "language": "python",
   "name": "python3"
  },
  "language_info": {
   "codemirror_mode": {
    "name": "ipython",
    "version": 3
   },
   "file_extension": ".py",
   "mimetype": "text/x-python",
   "name": "python",
   "nbconvert_exporter": "python",
   "pygments_lexer": "ipython3",
   "version": "3.9.7"
  },
  "vscode": {
   "interpreter": {
    "hash": "e6f8c17507029c8e461fe83051d80591a5187642c3746ecbff2fcb74af0a3602"
   }
  }
 },
 "nbformat": 4,
 "nbformat_minor": 2
}
