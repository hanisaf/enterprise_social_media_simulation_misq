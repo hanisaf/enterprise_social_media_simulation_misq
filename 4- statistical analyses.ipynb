{
 "cells": [
  {
   "cell_type": "code",
   "execution_count": 1,
   "metadata": {},
   "outputs": [
    {
     "name": "stderr",
     "output_type": "stream",
     "text": [
      "c:\\Users\\hanisaf\\anaconda3\\lib\\site-packages\\scipy\\__init__.py:146: UserWarning: A NumPy version >=1.16.5 and <1.23.0 is required for this version of SciPy (detected version 1.23.1\n",
      "  warnings.warn(f\"A NumPy version >={np_minversion} and <{np_maxversion}\"\n"
     ]
    },
    {
     "name": "stdout",
     "output_type": "stream",
     "text": [
      "Python 3.9.7 numpy == 1.23.1 pyarrow == 6.0.1 seaborn ==  0.11.2 statsmodels ==  0.12.2\n"
     ]
    }
   ],
   "source": [
    "import sys\n",
    "import numpy as np\n",
    "import pandas as pd\n",
    "import seaborn as sns\n",
    "import pyarrow\n",
    "from datetime import datetime\n",
    "import esm_simulation, utilities\n",
    "import matplotlib as mpl\n",
    "import matplotlib.pyplot as plt\n",
    "from matplotlib.pyplot import figure\n",
    "import matplotlib.cm as cm\n",
    "import itertools\n",
    "import statsmodels.api as sm\n",
    "from statsmodels.formula.api import ols\n",
    "import statsmodels.formula.api as smf\n",
    "from statsmodels.iolib.summary2 import summary_col\n",
    "from patsy.builtins import *\n",
    "pv=!{sys.executable} --version\n",
    "print(pv[0],'numpy ==', np.__version__, 'pyarrow ==',pyarrow.__version__, 'seaborn == ', sns.__version__, 'statsmodels == ', sm.__version__)"
   ]
  },
  {
   "cell_type": "code",
   "execution_count": 2,
   "metadata": {},
   "outputs": [],
   "source": [
    "# options\n",
    "pd.set_option('display.max_columns', 100)\n",
    "pd.set_option('display.float_format', lambda x: '%.3f' % x)\n",
    "mpl.rcParams['figure.dpi'] = 300\n",
    "sns.set_style(\"ticks\")\n",
    "sns.set_palette(\"cubehelix\")\n",
    "font_scale = 3\n",
    "sns.set_context(\"paper\", font_scale=font_scale, rc={\"lines.linewidth\": 3, 'aspect':1})"
   ]
  },
  {
   "cell_type": "code",
   "execution_count": 3,
   "metadata": {},
   "outputs": [
    {
     "name": "stdout",
     "output_type": "stream",
     "text": [
      "main (9720, 20)\n",
      "ext (506250, 20)\n",
      "robust (38880, 20)\n",
      "Index(['Configuration', 'Run', 'Adoption', 'Esm Interactivity',\n",
      "       'Initial Esm Adoption', 'Initial Metaknowledge Accuracy',\n",
      "       'Interruptions', 'Leakiness', 'Metaknowledge Accuracy',\n",
      "       'Metaknowledge Decay Rate', 'Organization Size', 'Performance',\n",
      "       'Realized Metaknowledge', 'Seed', 'Simulation Time', 'Time Step',\n",
      "       'Worker Aspiration', 'Worker Dependency',\n",
      "       'Worker Interruption Tolerance', 'Worker Transparency Preference'],\n",
      "      dtype='object')\n"
     ]
    }
   ],
   "source": [
    "data_main = pd.read_parquet('esm_simulation.Simulation_main_agg.parquet')\n",
    "print(\"main\", data_main.shape)\n",
    "\n",
    "data_ext = pd.read_parquet('esm_simulation.Simulation_ext_agg.parquet')\n",
    "print(\"ext\", data_ext.shape)\n",
    "\n",
    "data_robust = pd.read_parquet('esm_simulation.Simulation_robust_agg.parquet')\n",
    "print(\"robust\", data_robust.shape)\n",
    "\n",
    "print(data_main.columns)"
   ]
  },
  {
   "cell_type": "code",
   "execution_count": 4,
   "metadata": {},
   "outputs": [],
   "source": [
    "def regression_analysis(dv, data, extra_variables=[], interaction_terms=False):\n",
    "    formula = f'''{dv} ~ \n",
    "            Q(\"Esm Interactivity\") + Q(\"Worker Interruption Tolerance\") + Q(\"Worker Transparency Preference\")\n",
    "          + Q(\"Initial Metaknowledge Accuracy\") + Q(\"Worker Dependency\") + Q(\"Initial Esm Adoption\")\n",
    "        '''\n",
    "    if interaction_terms:\n",
    "        formula += ' + ' + 'Q(\"Esm Interactivity\"):Q(\"Worker Interruption Tolerance\") + Q(\"Esm Interactivity\"):Q(\"Worker Transparency Preference\") + Q(\"Worker Interruption Tolerance\"):Q(\"Worker Transparency Preference\")'\n",
    "    if extra_variables:\n",
    "        formula += ' + ' + ' + '.join([f'Q(\"{v}\")'for v in extra_variables])    \n",
    "    mod = smf.ols(formula=formula, data=data)\n",
    "    res = mod.fit(cov_type='HC1')\n",
    "    return res"
   ]
  },
  {
   "cell_type": "code",
   "execution_count": 5,
   "metadata": {},
   "outputs": [
    {
     "data": {
      "text/html": [
       "<table class=\"simpletable\">\n",
       "<tr>\n",
       "                                     <td></td>                                       <th>Main</th>        <th>Ext</th>     <th>Main_int</th>    <th>Ext_int</th> \n",
       "</tr>\n",
       "<tr>\n",
       "  <th>Q(\"Esm Interactivity\")</th>                                                 <td>-0.1110***</td> <td>-0.0701***</td>  <td>0.0742***</td> <td>-0.0852***</td>\n",
       "</tr>\n",
       "<tr>\n",
       "  <th></th>                                                                        <td>(0.0045)</td>   <td>(0.0009)</td>   <td>(0.0092)</td>   <td>(0.0018)</td> \n",
       "</tr>\n",
       "<tr>\n",
       "  <th>Q(\"Worker Interruption Tolerance\")</th>                                      <td>0.0021***</td>  <td>0.0025***</td>  <td>0.0007***</td> <td>-0.0002***</td>\n",
       "</tr>\n",
       "<tr>\n",
       "  <th></th>                                                                        <td>(0.0000)</td>   <td>(0.0000)</td>   <td>(0.0001)</td>   <td>(0.0000)</td> \n",
       "</tr>\n",
       "<tr>\n",
       "  <th>Q(\"Worker Transparency Preference\")</th>                                     <td>0.0106***</td>  <td>0.0086***</td>  <td>0.0053***</td>  <td>0.0006***</td>\n",
       "</tr>\n",
       "<tr>\n",
       "  <th></th>                                                                        <td>(0.0003)</td>   <td>(0.0000)</td>   <td>(0.0005)</td>   <td>(0.0001)</td> \n",
       "</tr>\n",
       "<tr>\n",
       "  <th>Q(\"Esm Interactivity\"):Q(\"Worker Interruption Tolerance\")</th>                   <td></td>           <td></td>      <td>-0.0010***</td>  <td>0.0014***</td>\n",
       "</tr>\n",
       "<tr>\n",
       "  <th></th>                                                                            <td></td>           <td></td>       <td>(0.0002)</td>   <td>(0.0000)</td> \n",
       "</tr>\n",
       "<tr>\n",
       "  <th>Q(\"Esm Interactivity\"):Q(\"Worker Transparency Preference\")</th>                  <td></td>           <td></td>      <td>-0.0249***</td> <td>-0.0067***</td>\n",
       "</tr>\n",
       "<tr>\n",
       "  <th></th>                                                                            <td></td>           <td></td>       <td>(0.0009)</td>   <td>(0.0001)</td> \n",
       "</tr>\n",
       "<tr>\n",
       "  <th>Q(\"Worker Interruption Tolerance\"):Q(\"Worker Transparency Preference\")</th>      <td></td>           <td></td>       <td>0.0004***</td>  <td>0.0002***</td>\n",
       "</tr>\n",
       "<tr>\n",
       "  <th></th>                                                                            <td></td>           <td></td>       <td>(0.0000)</td>   <td>(0.0000)</td> \n",
       "</tr>\n",
       "<tr>\n",
       "  <th>Q(\"Initial Metaknowledge Accuracy\")</th>                                     <td>0.3526***</td>  <td>0.2404***</td>  <td>0.3526***</td>  <td>0.2404***</td>\n",
       "</tr>\n",
       "<tr>\n",
       "  <th></th>                                                                        <td>(0.0144)</td>   <td>(0.0017)</td>   <td>(0.0133)</td>   <td>(0.0016)</td> \n",
       "</tr>\n",
       "<tr>\n",
       "  <th>Q(\"Worker Dependency\")</th>                                                 <td>-0.1920***</td> <td>-0.1741***</td> <td>-0.1920***</td> <td>-0.1741***</td>\n",
       "</tr>\n",
       "<tr>\n",
       "  <th></th>                                                                        <td>(0.0155)</td>   <td>(0.0018)</td>   <td>(0.0143)</td>   <td>(0.0017)</td> \n",
       "</tr>\n",
       "<tr>\n",
       "  <th>Q(\"Initial Esm Adoption\")</th>                                               <td>0.0382***</td>  <td>0.2117***</td>  <td>0.0382***</td>  <td>0.2117***</td>\n",
       "</tr>\n",
       "<tr>\n",
       "  <th></th>                                                                        <td>(0.0144)</td>   <td>(0.0018)</td>   <td>(0.0132)</td>   <td>(0.0017)</td> \n",
       "</tr>\n",
       "<tr>\n",
       "  <th>Q(\"Organization Size\")</th>                                                      <td></td>      <td>-0.0016***</td>      <td></td>      <td>-0.0016***</td>\n",
       "</tr>\n",
       "<tr>\n",
       "  <th></th>                                                                            <td></td>       <td>(0.0000)</td>       <td></td>       <td>(0.0000)</td> \n",
       "</tr>\n",
       "<tr>\n",
       "  <th>Q(\"Simulation Time\")</th>                                                        <td></td>       <td>0.0001***</td>      <td></td>       <td>0.0001***</td>\n",
       "</tr>\n",
       "<tr>\n",
       "  <th></th>                                                                            <td></td>       <td>(0.0000)</td>       <td></td>       <td>(0.0000)</td> \n",
       "</tr>\n",
       "<tr>\n",
       "  <th>Intercept</th>                                                              <td>-0.0691***</td> <td>-0.0971***</td> <td>-0.0636***</td>  <td>0.0467***</td>\n",
       "</tr>\n",
       "<tr>\n",
       "  <th></th>                                                                        <td>(0.0134)</td>   <td>(0.0018)</td>   <td>(0.0129)</td>   <td>(0.0017)</td> \n",
       "</tr>\n",
       "<tr>\n",
       "  <th>R-squared</th>                                                                <td>0.3347</td>     <td>0.4101</td>     <td>0.4529</td>     <td>0.4747</td>  \n",
       "</tr>\n",
       "<tr>\n",
       "  <th>R-squared Adj.</th>                                                           <td>0.3343</td>     <td>0.4101</td>     <td>0.4524</td>     <td>0.4746</td>  \n",
       "</tr>\n",
       "<tr>\n",
       "  <th>N</th>                                                                         <td>9720</td>      <td>506250</td>      <td>9720</td>      <td>506250</td>  \n",
       "</tr>\n",
       "</table>"
      ],
      "text/plain": [
       "<class 'statsmodels.iolib.summary2.Summary'>\n",
       "\"\"\"\n",
       "\n",
       "==================================================================================================================\n",
       "                                                                          Main       Ext      Main_int   Ext_int  \n",
       "------------------------------------------------------------------------------------------------------------------\n",
       "Q(\"Esm Interactivity\")                                                 -0.1110*** -0.0701*** 0.0742***  -0.0852***\n",
       "                                                                       (0.0045)   (0.0009)   (0.0092)   (0.0018)  \n",
       "Q(\"Worker Interruption Tolerance\")                                     0.0021***  0.0025***  0.0007***  -0.0002***\n",
       "                                                                       (0.0000)   (0.0000)   (0.0001)   (0.0000)  \n",
       "Q(\"Worker Transparency Preference\")                                    0.0106***  0.0086***  0.0053***  0.0006*** \n",
       "                                                                       (0.0003)   (0.0000)   (0.0005)   (0.0001)  \n",
       "Q(\"Esm Interactivity\"):Q(\"Worker Interruption Tolerance\")                                    -0.0010*** 0.0014*** \n",
       "                                                                                             (0.0002)   (0.0000)  \n",
       "Q(\"Esm Interactivity\"):Q(\"Worker Transparency Preference\")                                   -0.0249*** -0.0067***\n",
       "                                                                                             (0.0009)   (0.0001)  \n",
       "Q(\"Worker Interruption Tolerance\"):Q(\"Worker Transparency Preference\")                       0.0004***  0.0002*** \n",
       "                                                                                             (0.0000)   (0.0000)  \n",
       "Q(\"Initial Metaknowledge Accuracy\")                                    0.3526***  0.2404***  0.3526***  0.2404*** \n",
       "                                                                       (0.0144)   (0.0017)   (0.0133)   (0.0016)  \n",
       "Q(\"Worker Dependency\")                                                 -0.1920*** -0.1741*** -0.1920*** -0.1741***\n",
       "                                                                       (0.0155)   (0.0018)   (0.0143)   (0.0017)  \n",
       "Q(\"Initial Esm Adoption\")                                              0.0382***  0.2117***  0.0382***  0.2117*** \n",
       "                                                                       (0.0144)   (0.0018)   (0.0132)   (0.0017)  \n",
       "Q(\"Organization Size\")                                                            -0.0016***            -0.0016***\n",
       "                                                                                  (0.0000)              (0.0000)  \n",
       "Q(\"Simulation Time\")                                                              0.0001***             0.0001*** \n",
       "                                                                                  (0.0000)              (0.0000)  \n",
       "Intercept                                                              -0.0691*** -0.0971*** -0.0636*** 0.0467*** \n",
       "                                                                       (0.0134)   (0.0018)   (0.0129)   (0.0017)  \n",
       "R-squared                                                              0.3347     0.4101     0.4529     0.4747    \n",
       "R-squared Adj.                                                         0.3343     0.4101     0.4524     0.4746    \n",
       "N                                                                      9720       506250     9720       506250    \n",
       "==================================================================================================================\n",
       "Standard errors in parentheses.\n",
       "* p<.1, ** p<.05, ***p<.01\n",
       "\"\"\""
      ]
     },
     "execution_count": 5,
     "metadata": {},
     "output_type": "execute_result"
    }
   ],
   "source": [
    "mod_main = regression_analysis(\"Performance\", data_main)\n",
    "mod_main_int = regression_analysis(\"Performance\", data_main, interaction_terms=True)\n",
    "mod_ext = regression_analysis(\"Performance\", data_ext, extra_variables=[\"Organization Size\", \"Simulation Time\"])\n",
    "mod_ext_int = regression_analysis(\"Performance\", data_ext, extra_variables=[\"Organization Size\", \"Simulation Time\"], interaction_terms=True)\n",
    "\n",
    "order = ['Q(\"Esm Interactivity\")', 'Q(\"Worker Interruption Tolerance\")', 'Q(\"Worker Transparency Preference\")', \n",
    "        'Q(\"Esm Interactivity\"):Q(\"Worker Interruption Tolerance\")', 'Q(\"Esm Interactivity\"):Q(\"Worker Transparency Preference\")', 'Q(\"Worker Interruption Tolerance\"):Q(\"Worker Transparency Preference\")',\n",
    "        'Q(\"Initial Metaknowledge Accuracy\")', 'Q(\"Worker Dependency\")', 'Q(\"Initial Esm Adoption\")',\n",
    "        'Q(\"Organization Size\")', 'Q(\"Simulation Time\")']\n",
    "table = summary_col([mod_main,  mod_ext, mod_main_int, mod_ext_int], stars=True, float_format='%0.4f', \n",
    "        model_names=['Main', 'Ext' ,'Main_int', 'Ext_int'],\n",
    "        info_dict={'N':lambda x: \"{0:d}\".format(int(x.nobs))}, regressor_order=order, drop_omitted=False)\n",
    "table"
   ]
  },
  {
   "cell_type": "code",
   "execution_count": 6,
   "metadata": {},
   "outputs": [],
   "source": [
    "print(table, file=open(\"regression_table.txt\", \"w\"))"
   ]
  },
  {
   "cell_type": "code",
   "execution_count": 7,
   "metadata": {},
   "outputs": [],
   "source": [
    "# export table to html format\n",
    "table_html = table.as_html()\n",
    "with open('regression_table.html', 'w') as f:\n",
    "    f.write(table_html)"
   ]
  },
  {
   "cell_type": "markdown",
   "metadata": {},
   "source": [
    "# alternative assumptions"
   ]
  },
  {
   "cell_type": "code",
   "execution_count": 8,
   "metadata": {},
   "outputs": [],
   "source": [
    "mod_robust = regression_analysis(\"Performance\", data_robust, extra_variables=[ 'Worker Aspiration', 'Metaknowledge Decay Rate'])\n",
    "mod_robust_int = regression_analysis(\"Performance\", data_robust, interaction_terms=True, extra_variables=[ 'Worker Aspiration', 'Metaknowledge Decay Rate'])"
   ]
  },
  {
   "cell_type": "code",
   "execution_count": 9,
   "metadata": {},
   "outputs": [
    {
     "data": {
      "text/html": [
       "<table class=\"simpletable\">\n",
       "<tr>\n",
       "                   <td></td>                      <th>Main</th>      <th>Robust</th>  \n",
       "</tr>\n",
       "<tr>\n",
       "  <th>Q(\"Esm Interactivity\")</th>              <td>-0.1110***</td>  <td>0.0029***</td>\n",
       "</tr>\n",
       "<tr>\n",
       "  <th></th>                                     <td>(0.0045)</td>   <td>(0.0008)</td> \n",
       "</tr>\n",
       "<tr>\n",
       "  <th>Q(\"Worker Interruption Tolerance\")</th>   <td>0.0021***</td>  <td>0.0007***</td>\n",
       "</tr>\n",
       "<tr>\n",
       "  <th></th>                                     <td>(0.0000)</td>   <td>(0.0000)</td> \n",
       "</tr>\n",
       "<tr>\n",
       "  <th>Q(\"Worker Transparency Preference\")</th>  <td>0.0106***</td>  <td>0.0030***</td>\n",
       "</tr>\n",
       "<tr>\n",
       "  <th></th>                                     <td>(0.0003)</td>   <td>(0.0001)</td> \n",
       "</tr>\n",
       "<tr>\n",
       "  <th>Q(\"Initial Metaknowledge Accuracy\")</th>  <td>0.3526***</td>  <td>0.0822***</td>\n",
       "</tr>\n",
       "<tr>\n",
       "  <th></th>                                     <td>(0.0144)</td>   <td>(0.0032)</td> \n",
       "</tr>\n",
       "<tr>\n",
       "  <th>Q(\"Worker Dependency\")</th>              <td>-0.1920***</td>   <td>-0.0044</td> \n",
       "</tr>\n",
       "<tr>\n",
       "  <th></th>                                     <td>(0.0155)</td>   <td>(0.0033)</td> \n",
       "</tr>\n",
       "<tr>\n",
       "  <th>Q(\"Initial Esm Adoption\")</th>            <td>0.0382***</td>  <td>0.0200***</td>\n",
       "</tr>\n",
       "<tr>\n",
       "  <th></th>                                     <td>(0.0144)</td>   <td>(0.0032)</td> \n",
       "</tr>\n",
       "<tr>\n",
       "  <th>Q(\"Metaknowledge Decay Rate\")</th>            <td></td>      <td>-0.0139***</td>\n",
       "</tr>\n",
       "<tr>\n",
       "  <th></th>                                         <td></td>       <td>(0.0009)</td> \n",
       "</tr>\n",
       "<tr>\n",
       "  <th>Q(\"Worker Aspiration\")</th>                   <td></td>       <td>0.0541***</td>\n",
       "</tr>\n",
       "<tr>\n",
       "  <th></th>                                         <td></td>       <td>(0.0009)</td> \n",
       "</tr>\n",
       "<tr>\n",
       "  <th>Intercept</th>                           <td>-0.0691***</td> <td>-0.0778***</td>\n",
       "</tr>\n",
       "<tr>\n",
       "  <th></th>                                     <td>(0.0134)</td>   <td>(0.0031)</td> \n",
       "</tr>\n",
       "<tr>\n",
       "  <th>R-squared</th>                             <td>0.3347</td>     <td>0.2263</td>  \n",
       "</tr>\n",
       "<tr>\n",
       "  <th>R-squared Adj.</th>                        <td>0.3343</td>     <td>0.2262</td>  \n",
       "</tr>\n",
       "<tr>\n",
       "  <th>N</th>                                      <td>9720</td>       <td>38880</td>  \n",
       "</tr>\n",
       "</table>"
      ],
      "text/plain": [
       "<class 'statsmodels.iolib.summary2.Summary'>\n",
       "\"\"\"\n",
       "\n",
       "=========================================================\n",
       "                                       Main      Robust  \n",
       "---------------------------------------------------------\n",
       "Q(\"Esm Interactivity\")              -0.1110*** 0.0029*** \n",
       "                                    (0.0045)   (0.0008)  \n",
       "Q(\"Worker Interruption Tolerance\")  0.0021***  0.0007*** \n",
       "                                    (0.0000)   (0.0000)  \n",
       "Q(\"Worker Transparency Preference\") 0.0106***  0.0030*** \n",
       "                                    (0.0003)   (0.0001)  \n",
       "Q(\"Initial Metaknowledge Accuracy\") 0.3526***  0.0822*** \n",
       "                                    (0.0144)   (0.0032)  \n",
       "Q(\"Worker Dependency\")              -0.1920*** -0.0044   \n",
       "                                    (0.0155)   (0.0033)  \n",
       "Q(\"Initial Esm Adoption\")           0.0382***  0.0200*** \n",
       "                                    (0.0144)   (0.0032)  \n",
       "Q(\"Metaknowledge Decay Rate\")                  -0.0139***\n",
       "                                               (0.0009)  \n",
       "Q(\"Worker Aspiration\")                         0.0541*** \n",
       "                                               (0.0009)  \n",
       "Intercept                           -0.0691*** -0.0778***\n",
       "                                    (0.0134)   (0.0031)  \n",
       "R-squared                           0.3347     0.2263    \n",
       "R-squared Adj.                      0.3343     0.2262    \n",
       "N                                   9720       38880     \n",
       "=========================================================\n",
       "Standard errors in parentheses.\n",
       "* p<.1, ** p<.05, ***p<.01\n",
       "\"\"\""
      ]
     },
     "execution_count": 9,
     "metadata": {},
     "output_type": "execute_result"
    }
   ],
   "source": [
    "order = ['Q(\"Esm Interactivity\")', 'Q(\"Worker Interruption Tolerance\")', 'Q(\"Worker Transparency Preference\")', \n",
    "        'Q(\"Esm Interactivity\"):Q(\"Worker Interruption Tolerance\")', 'Q(\"Esm Interactivity\"):Q(\"Worker Transparency Preference\")', 'Q(\"Worker Interruption Tolerance\"):Q(\"Worker Transparency Preference\")',\n",
    "        'Q(\"Initial Metaknowledge Accuracy\")', 'Q(\"Worker Dependency\")', 'Q(\"Initial Esm Adoption\")',\n",
    "        'Q(\"Organization Size\")', 'Q(\"Simulation Time\")', 'Q(\"Metaknowledge Decay Rate\")', 'Q(\"Worker Aspiration\")']\n",
    "\n",
    "table = summary_col([mod_main,  mod_robust], stars=True, float_format='%0.4f', \n",
    "        model_names=['Main', 'Robust'],\n",
    "        info_dict={'N':lambda x: \"{0:d}\".format(int(x.nobs))}, regressor_order=order, drop_omitted=False)\n",
    "table"
   ]
  },
  {
   "cell_type": "code",
   "execution_count": 10,
   "metadata": {},
   "outputs": [],
   "source": [
    "print(table, file=open(\"regression_table_alternative_assumptions.txt\", \"w\"))"
   ]
  },
  {
   "cell_type": "code",
   "execution_count": 11,
   "metadata": {},
   "outputs": [],
   "source": [
    "# export table to html format\n",
    "table_html = table.as_html()\n",
    "with open('regression_table_alternative_assumptions.html', 'w') as f:\n",
    "    f.write(table_html)"
   ]
  },
  {
   "cell_type": "code",
   "execution_count": null,
   "metadata": {},
   "outputs": [],
   "source": []
  }
 ],
 "metadata": {
  "kernelspec": {
   "display_name": "Python 3 (ipykernel)",
   "language": "python",
   "name": "python3"
  },
  "language_info": {
   "codemirror_mode": {
    "name": "ipython",
    "version": 3
   },
   "file_extension": ".py",
   "mimetype": "text/x-python",
   "name": "python",
   "nbconvert_exporter": "python",
   "pygments_lexer": "ipython3",
   "version": "3.9.7 (default, Sep 16 2021, 16:59:28) [MSC v.1916 64 bit (AMD64)]"
  },
  "vscode": {
   "interpreter": {
    "hash": "e6f8c17507029c8e461fe83051d80591a5187642c3746ecbff2fcb74af0a3602"
   }
  }
 },
 "nbformat": 4,
 "nbformat_minor": 2
}
